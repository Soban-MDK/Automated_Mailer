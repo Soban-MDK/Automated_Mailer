{
 "cells": [
  {
   "cell_type": "code",
   "execution_count": 9,
   "metadata": {},
   "outputs": [],
   "source": [
    "import smtplib\n",
    "import getpass\n",
    "import pandas as pd\n",
    "import os\n",
    "import datetime\n",
    "import logging\n",
    "\n",
    "from dotenv import load_dotenv, dotenv_values\n",
    "from datetime import date\n",
    "from email.message import EmailMessage\n",
    "from email.mime.multipart import MIMEMultipart\n",
    "from email.mime.application import MIMEApplication\n",
    "from email.mime.text import MIMEText"
   ]
  },
  {
   "cell_type": "code",
   "execution_count": 18,
   "metadata": {},
   "outputs": [],
   "source": [
    "def send_mail(data):\n",
    "    try:\n",
    "        MAIL_ID = 'mohammad.s@medkart.in'\n",
    "        MAIL_PASSWORD = \"Soban@786\"\n",
    "        MAIL_RECIPIENTS = 'dhyey.s@medkart.in, da2@medkart.in' # Replace with App Password if needed\n",
    "        server = smtplib.SMTP('smtp.office365.com', 587)\n",
    "        server.ehlo()\n",
    "        server.starttls()\n",
    "        server.login(MAIL_ID, MAIL_PASSWORD)\n",
    "        recipients = MAIL_RECIPIENTS.split(',')\n",
    "        to_address = recipients[0]\n",
    "        cc_addresses = recipients[1:] if len(recipients) > 1 else []\n",
    "        msg = MIMEMultipart()\n",
    "        msg['Subject'] = f\"Daily Stock File | {datetime.datetime.now().strftime('%d_%m_%Y')}\"\n",
    "        msg['From'] = MAIL_ID\n",
    "        msg['To'] = to_address\n",
    "        if cc_addresses:\n",
    "            msg['Cc'] = ','.join(cc_addresses)\n",
    "        message = f\"Please find the Daily Stock file for {datetime.datetime.now().strftime('%d-%m-%Y')} at the following link:\\n\\n\"\n",
    "        msg.attach(MIMEText(message, 'plain'))\n",
    "        all_recipients = [to_address] + cc_addresses\n",
    "        server.sendmail(MAIL_ID, all_recipients, msg.as_string())\n",
    "        server.quit()\n",
    "        # os.remove(file_name)\n",
    "    except Exception as e:\n",
    "        logging.error(f\"Error occurred in send_mail: {str(e)}\")\n",
    "        return False"
   ]
  },
  {
   "cell_type": "code",
   "execution_count": 19,
   "metadata": {},
   "outputs": [
    {
     "name": "stderr",
     "output_type": "stream",
     "text": [
      "ERROR:root:Error occurred in send_mail: (535, b'5.7.139 Authentication unsuccessful, SmtpClientAuthentication is disabled for the Tenant. Visit https://aka.ms/smtp_auth_disabled for more information. [BM1P287CA0015.INDP287.PROD.OUTLOOK.COM 2025-02-03T12:17:32.372Z 08DD3FE6B835FD1E]')\n"
     ]
    },
    {
     "data": {
      "text/plain": [
       "False"
      ]
     },
     "execution_count": 19,
     "metadata": {},
     "output_type": "execute_result"
    }
   ],
   "source": [
    "send_mail(\"./csv_files_to_send/Final_Output.csv\")"
   ]
  },
  {
   "cell_type": "code",
   "execution_count": null,
   "metadata": {},
   "outputs": [],
   "source": [
    "import smtplib\n",
    "from email.message import EmailMessage\n",
    "import os\n",
    "EMAIL_ADDRESS = \n",
    "EMAIL_PASSWORD =   # Replace with App Password if needed\n",
    "TO_EMAIL = \"mohammad.s@medkart.in\"\n",
    "msg = EmailMessage()\n",
    "msg['Subject'] = 'Day On Day COCO'\n",
    "msg['From'] = EMAIL_ADDRESS\n",
    "msg['To'] = TO_EMAIL\n",
    "msg.set_content('Hello, please find the attached CSV files.')\n",
    "csv_files = [f for f in os.listdir() if f.endswith('.csv') or f.endswith('.CSV') or f.endswith('.xls') or f.endswith('.xlsx')]\n",
    "with open(f\"./csv_files_to_send/Final_Output.csv\", 'rb') as f:\n",
    "    msg.add_attachment(f.read(), maintype='text', subtype='csv', filename=os.path.basename(\"Final_Output\"))\n",
    "# Using TLS\n",
    "with smtplib.SMTP('smtp-mail.outlook.com', 587) as smtp:\n",
    "    smtp.starttls()\n",
    "    smtp.login(EMAIL_ADDRESS, EMAIL_PASSWORD)\n",
    "    smtp.send_message(msg)"
   ]
  },
  {
   "cell_type": "code",
   "execution_count": null,
   "metadata": {},
   "outputs": [],
   "source": []
  }
 ],
 "metadata": {
  "kernelspec": {
   "display_name": "Python 3",
   "language": "python",
   "name": "python3"
  },
  "language_info": {
   "codemirror_mode": {
    "name": "ipython",
    "version": 3
   },
   "file_extension": ".py",
   "mimetype": "text/x-python",
   "name": "python",
   "nbconvert_exporter": "python",
   "pygments_lexer": "ipython3",
   "version": "3.13.1"
  }
 },
 "nbformat": 4,
 "nbformat_minor": 2
}
